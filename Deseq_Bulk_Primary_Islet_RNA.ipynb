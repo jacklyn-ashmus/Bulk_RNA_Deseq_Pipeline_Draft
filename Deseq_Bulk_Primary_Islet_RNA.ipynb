{
 "cells": [
  {
   "cell_type": "code",
   "execution_count": null,
   "metadata": {},
   "outputs": [],
   "source": [
    "\n",
    "# sessionInfo()\n",
    "suppressPackageStartupMessages({\n",
    "    library(DESeq2)\n",
    "    library(dplyr)\n",
    "    library(ggplot2)\n",
    "    library(ggrepel)\n",
    "    library(ggpubr)\n",
    "    library(RColorBrewer)\n",
    "    library(cowplot)\n",
    "    library(Matrix)\n",
    "    library(stringr)\n",
    "    library(DESeq2)\n",
    "    library(edgeR)\n",
    "    library(data.table)\n",
    "    library(tximport)\n",
    "    library(tidyr)\n",
    "    library(readr)\n",
    "    library(DESeq2)\n",
    "    library(EnsDb.Hsapiens.v86)\n",
    "    library(AnnotationHub)\n",
    "    library(ggplot2)\n",
    "    library(pheatmap)\n",
    "    library(RColorBrewer)\n",
    "    library(forcats)\n",
    "    library(goseq)\n",
    "    library(geneLenDataBase)\n",
    "    library(org.Hs.eg.db)\n",
    "    library(clusterProfiler)\n",
    "    library(enrichplot)\n",
    "    library(DOSE)\n",
    "    library(TxDb.Hsapiens.UCSC.hg38.knownGene)\n",
    "#         library(ggrastr)\n",
    "    library(tictoc)\n",
    "})\n",
    "\n",
    "TxDb= TxDb.Hsapiens.UCSC.hg38.knownGene\n",
    "\n",
    "\n",
    "\n"
   ]
  },
  {
   "cell_type": "markdown",
   "metadata": {},
   "source": [
    "### Input File Names"
   ]
  },
  {
   "cell_type": "code",
   "execution_count": null,
   "metadata": {},
   "outputs": [],
   "source": [
    "indir = '/nfs/lab/projects/islet_multiomics_stress_CoCl2/pipeline/bulk_islet_rna/'\n",
    "outdir = '/nfs/lab/projects/islet_multiomics_stress_CoCl2/pipeline/DESeq/rna/redo_bulkIslet_RNA_fixedAnno/'\n",
    "outdir_bulk = outdir\n",
    "ALPHA = 0.1\n",
    "\n",
    "infilename = paste0(indir, \n",
    "                    'bulk_islet_rna.hg38.Donor_plus_Treatment.Replicates_MERGED_by_sum.ANNOTATED.FILT_2Plus_Reads_per_Treat.with_TPMs.countsfromTxImport.dds.rds')\n",
    "\n",
    "\n"
   ]
  },
  {
   "cell_type": "code",
   "execution_count": null,
   "metadata": {},
   "outputs": [],
   "source": [
    "tic('read')\n",
    "dds <- readRDS(infilename)\n",
    "toc()"
   ]
  },
  {
   "cell_type": "code",
   "execution_count": null,
   "metadata": {},
   "outputs": [],
   "source": [
    "as.data.frame(colData(dds))"
   ]
  },
  {
   "cell_type": "code",
   "execution_count": null,
   "metadata": {},
   "outputs": [],
   "source": [
    "dds$treatment <- factor(dds$Treatment, levels = c(\"Unt\", \"CoCl2\"))"
   ]
  },
  {
   "cell_type": "markdown",
   "metadata": {},
   "source": [
    "# Run DESeq"
   ]
  },
  {
   "cell_type": "code",
   "execution_count": null,
   "metadata": {},
   "outputs": [],
   "source": [
    "dds_postDESeq <- DESeq(dds, fitType=\"parametric\")    "
   ]
  },
  {
   "cell_type": "code",
   "execution_count": null,
   "metadata": {},
   "outputs": [],
   "source": [
    "tic('24h save')\n",
    "ddsoutfilename = paste0(outdir, 'bulk_islet_rna.hg38.Donor_plus_Treatment.Replicates_MERGED_by_sum.ANNOTATED.FILT_2Plus_Reads_per_Treat.with_TPMs.countsfromTxImport.afterDESeq.fittype_parametric.rds')\n",
    "saveRDS(dds_postDESeq, file = ddsoutfilename)\n",
    "toc()\n"
   ]
  },
  {
   "cell_type": "markdown",
   "metadata": {},
   "source": [
    "# Get Results"
   ]
  },
  {
   "cell_type": "code",
   "execution_count": null,
   "metadata": {},
   "outputs": [],
   "source": [
    "rowdata = as.data.frame(rowData(dds_postDESeq))"
   ]
  },
  {
   "cell_type": "code",
   "execution_count": null,
   "metadata": {},
   "outputs": [],
   "source": [
    "head(rowdata)"
   ]
  },
  {
   "cell_type": "code",
   "execution_count": null,
   "metadata": {},
   "outputs": [],
   "source": [
    "\n",
    "tablename = paste0(outdir, 'bulk_islet_rna.hg38.Donor_plus_Treatment.Replicates_MERGED_by_sum.ANNOTATED.FILT_2Plus_Reads_per_Treat.with_TPMs.postDESeq.Gene_RowData.txt')\n",
    "tic()\n",
    "write.table(rowdata, tablename, quote=FALSE, sep='\\t', col.names = TRUE, row.names=TRUE)\n",
    "toc()\n"
   ]
  },
  {
   "cell_type": "code",
   "execution_count": null,
   "metadata": {},
   "outputs": [],
   "source": [
    "res <- results(dds_postDESeq, contrast=c('Treatment', 'CoCl2', 'Unt'), alpha = ALPHA)\n",
    "res <- as.data.frame(res)\n",
    "# res <- cbind(res, rowdata)\n",
    "# res <- as.data.frame(res)\n",
    "# head(as.data.frame(res))\n",
    "# dim(res)\n",
    "# dim(rowdata)\n",
    "# rownames(rowdata) == rownames(res)\n",
    "res_rowdata = cbind(res, rowdata)\n",
    "# dim(res_rowdata)\n",
    "\n",
    "# length(rownames(res_rowdata))\n",
    "# length(unique(rownames(res_rowdata)))\n",
    "\n"
   ]
  },
  {
   "cell_type": "code",
   "execution_count": null,
   "metadata": {},
   "outputs": [],
   "source": [
    "\n",
    "tic('24h save')\n",
    "resoutfilename = paste0(outdir_bulk, 'bulk_islet_rna.hg38.Donor_plus_Treatment.Replicates_MERGED_by_sum.ANNOTATED.FILT_2Plus_Reads_per_Treat.with_TPMs.postDESeq.RESULTS.withRowdata.txt')\n",
    "write.table(res_rowdata, resoutfilename, quote=FALSE, sep='\\t', col.names = TRUE, row.names=TRUE)\n",
    "toc()\n",
    "\n"
   ]
  },
  {
   "cell_type": "code",
   "execution_count": null,
   "metadata": {
    "scrolled": false
   },
   "outputs": [],
   "source": [
    "res$gene_name = res_rowdata$gene_name\n",
    "res$gene_id = res_rowdata$gene_id\n"
   ]
  },
  {
   "cell_type": "code",
   "execution_count": null,
   "metadata": {},
   "outputs": [],
   "source": [
    "res_filt = res %>% dplyr::filter(  pvalue < 0.05 )\n",
    "\n",
    "\n",
    "\n",
    "\n",
    "\n",
    "\n"
   ]
  },
  {
   "cell_type": "code",
   "execution_count": null,
   "metadata": {},
   "outputs": [],
   "source": [
    "res_filt = res_filt %>% dplyr::arrange(padj)"
   ]
  },
  {
   "cell_type": "code",
   "execution_count": null,
   "metadata": {},
   "outputs": [],
   "source": [
    "dim(res_filt)"
   ]
  },
  {
   "cell_type": "code",
   "execution_count": null,
   "metadata": {},
   "outputs": [],
   "source": [
    "head(res_filt)"
   ]
  },
  {
   "cell_type": "code",
   "execution_count": null,
   "metadata": {},
   "outputs": [],
   "source": [
    "\n",
    "tic('24h save')\n",
    "resoutfilename = paste0(outdir_bulk, 'bulk_islet_rna.hg38.Donor_plus_Treatment.Replicates_MERGED_by_sum.ANNOTATED.FILT_2Plus_Reads_per_Treat.with_TPMs.postDESeq.RESULTS.pval_0.05.txt')\n",
    "write.table(res_filt, resoutfilename, quote=FALSE, sep='\\t', col.names = TRUE, row.names=TRUE)\n",
    "toc()\n",
    "\n"
   ]
  },
  {
   "cell_type": "code",
   "execution_count": null,
   "metadata": {},
   "outputs": [],
   "source": [
    "\n",
    "tablename = paste0(indir, 'endoC.hg38.', testName, '.TPMs.unfiltered.txt')\n",
    "tic()\n",
    "tpm_final_72 = read.table(tablename)\n",
    "toc()\n",
    "\n",
    "\n",
    "\n",
    "\n",
    "tpm_final_72_sort = tpm_final_72[rownames(res_rowdata),]\n",
    "tpm_final_72_sort$gene_width_from_gencode41.gene_name = NULL\n",
    "tpm_final_72_sort$gene_width_from_gencode41.row_name = NULL\n",
    "tpm_final_72_sort$gene_width_from_gencode41.gene_width_from_gencode41 = NULL\n",
    "tpm_final_72_sort$gene_id = NULL\n",
    "tpm_final_72_sort$gene_gene_nameid = NULL\n",
    "tpm_final_72_sort$gene_width_from_gencode41.gene_id = NULL\n",
    "tpm_final_72_sort$gene_name = NULL\n",
    "head(tpm_final_72_sort)"
   ]
  },
  {
   "cell_type": "code",
   "execution_count": null,
   "metadata": {},
   "outputs": [],
   "source": [
    "\n",
    "tablename = paste0(indir, 'bulk_islet_rna.hg38.TPMs.unfiltered.MergedReplicates.txt')\n",
    "tic()\n",
    "tpm_final_merged = read.table(tablename)\n",
    "toc()\n",
    "\n",
    "\n",
    "\n",
    "\n",
    "tpm_final_merged = tpm_final_merged[rownames(res_rowdata),]\n",
    "tpm_final_merged$gene_width_from_gencode41.gene_name = NULL\n",
    "tpm_final_merged$gene_width_from_gencode41.row_name = NULL\n",
    "tpm_final_merged$gene_width_from_gencode41.gene_width_from_gencode41 = NULL\n",
    "tpm_final_merged$gene_id = NULL\n",
    "tpm_final_merged$gene_gene_nameid = NULL\n",
    "tpm_final_merged$gene_width_from_gencode41.gene_id = NULL\n",
    "tpm_final_merged$gene_width_from_gencode41 = NULL\n",
    "tpm_final_merged$gene_name = NULL\n",
    "head(tpm_final_merged)"
   ]
  },
  {
   "cell_type": "code",
   "execution_count": null,
   "metadata": {},
   "outputs": [],
   "source": [
    "\n",
    "tablename = paste0(indir, 'bulk_islet_rna.hg38.TPMs.unfiltered.unmerged.txt')\n",
    "tic()\n",
    "tpm_final_unmerged = read.table(tablename)\n",
    "toc()\n",
    "\n",
    "\n",
    "\n",
    "\n",
    "tpm_final_unmerged = tpm_final_merged[rownames(res_rowdata),]\n",
    "tpm_final_unmerged$gene_width_from_gencode41.gene_name = NULL\n",
    "tpm_final_unmerged$gene_width_from_gencode41.row_name = NULL\n",
    "tpm_final_unmerged$gene_width_from_gencode41.gene_width_from_gencode41 = NULL\n",
    "tpm_final_unmerged$gene_id = NULL\n",
    "tpm_final_unmerged$gene_gene_nameid = NULL\n",
    "tpm_final_unmerged$gene_width_from_gencode41.gene_id = NULL\n",
    "tpm_final_unmerged$gene_name = NULL\n",
    "head(tpm_final_unmerged)"
   ]
  },
  {
   "cell_type": "code",
   "execution_count": null,
   "metadata": {},
   "outputs": [],
   "source": [
    "res_rowdata_tpm_unmerged = res_rowdata\n",
    "res_rowdata_tpm_unmerged = cbind(res_rowdata, tpm_final_unmerged)\n",
    "head(res_rowdata_tpm_unmerged)"
   ]
  },
  {
   "cell_type": "code",
   "execution_count": null,
   "metadata": {},
   "outputs": [],
   "source": [
    "res_rowdata_tpm_merged = res_rowdata\n",
    "res_rowdata_tpm_merged = cbind(res_rowdata, tpm_final_merged)\n",
    "head(res_rowdata_tpm_merged)"
   ]
  },
  {
   "cell_type": "code",
   "execution_count": null,
   "metadata": {},
   "outputs": [],
   "source": [
    "\n",
    "tic('merged save')\n",
    "resoutfilename = paste0(outdir, 'bulk_islet_rna.hg38.Donor_plus_Treatment.Replicates_MERGED_by_sum.ANNOTATED.FILT_2Plus_Reads_per_Treat.with_TPMs.postDESeq.RESULTS.withRowdata_AND_TPM_merged.txt')\n",
    "write.table(res_rowdata_tpm_merged, resoutfilename, quote=FALSE, sep='\\t', col.names = TRUE, row.names=TRUE)\n",
    "toc()\n",
    "\n",
    "\n",
    "tic('merged save')\n",
    "resoutfilename = paste0(outdir, 'bulk_islet_rna.hg38.Donor_plus_Treatment.Replicates_MERGED_by_sum.ANNOTATED.FILT_2Plus_Reads_per_Treat.with_TPMs.postDESeq.RESULTS.withRowdata_AND_TPM_merged.csv')\n",
    "write.table(res_rowdata_tpm_merged, resoutfilename, quote=FALSE, sep=',', col.names = TRUE, row.names=TRUE)\n",
    "toc()\n"
   ]
  },
  {
   "cell_type": "code",
   "execution_count": null,
   "metadata": {},
   "outputs": [],
   "source": [
    "\n",
    "tic('unmerged save')\n",
    "resoutfilename = paste0(outdir, 'bulk_islet_rna.hg38.Donor_plus_Treatment.Replicates_MERGED_by_sum.ANNOTATED.FILT_2Plus_Reads_per_Treat.with_TPMs.postDESeq.RESULTS.withRowdata_AND_TPM_unmerged.txt')\n",
    "write.table(res_rowdata_tpm_unmerged, resoutfilename, quote=FALSE, sep='\\t', col.names = TRUE, row.names=TRUE)\n",
    "toc()\n",
    "\n",
    "\n",
    "tic('unmerged save')\n",
    "resoutfilename = paste0(outdir, 'bulk_islet_rna.hg38.Donor_plus_Treatment.Replicates_MERGED_by_sum.ANNOTATED.FILT_2Plus_Reads_per_Treat.with_TPMs.postDESeq.RESULTS.withRowdata_AND_TPM_unmerged.csv')\n",
    "write.table(res_rowdata_tpm_unmerged, resoutfilename, quote=FALSE, sep=',', col.names = TRUE, row.names=TRUE)\n",
    "toc()\n",
    "\n",
    "\n"
   ]
  },
  {
   "cell_type": "code",
   "execution_count": null,
   "metadata": {},
   "outputs": [],
   "source": [
    "head(res_rowdata_tpm_unmerged)"
   ]
  },
  {
   "cell_type": "code",
   "execution_count": null,
   "metadata": {},
   "outputs": [],
   "source": []
  }
 ],
 "metadata": {
  "kernelspec": {
   "display_name": "R",
   "language": "R",
   "name": "ir"
  },
  "language_info": {
   "codemirror_mode": "r",
   "file_extension": ".r",
   "mimetype": "text/x-r-source",
   "name": "R",
   "pygments_lexer": "r",
   "version": "3.6.0"
  }
 },
 "nbformat": 4,
 "nbformat_minor": 4
}
