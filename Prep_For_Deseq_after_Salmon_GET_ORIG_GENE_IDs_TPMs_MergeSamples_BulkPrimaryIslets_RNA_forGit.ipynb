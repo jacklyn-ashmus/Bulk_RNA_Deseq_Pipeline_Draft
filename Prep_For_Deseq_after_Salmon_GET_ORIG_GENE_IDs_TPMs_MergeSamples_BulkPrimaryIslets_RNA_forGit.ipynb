{
 "cells": [
  {
   "cell_type": "code",
   "execution_count": null,
   "metadata": {},
   "outputs": [],
   "source": [
    "\n",
    "# sessionInfo()\n",
    "suppressPackageStartupMessages({\n",
    "    library(DESeq2)\n",
    "    library(dplyr)\n",
    "    library(ggplot2)\n",
    "    library(ggrepel)\n",
    "    library(Matrix)\n",
    "    library(ggpubr)\n",
    "    library(RColorBrewer)\n",
    "    library(cowplot)\n",
    "    library(Matrix)\n",
    "    library(stringr)\n",
    "    library(DESeq2)\n",
    "    library(edgeR)\n",
    "    library(data.table)\n",
    "    library(tximport)\n",
    "    library(tidyr)\n",
    "    library(readr)\n",
    "    library(DESeq2)\n",
    "    library(EnsDb.Hsapiens.v86)\n",
    "    library(AnnotationHub)\n",
    "    library(ggplot2)\n",
    "    library(pheatmap)\n",
    "    library(forcats)\n",
    "    library(goseq)\n",
    "    library(geneLenDataBase)\n",
    "    library(org.Hs.eg.db)\n",
    "    library(clusterProfiler)\n",
    "    library(enrichplot)\n",
    "    library(DOSE)\n",
    "    library(ggpubr)\n",
    "    library(TxDb.Hsapiens.UCSC.hg38.knownGene)\n",
    "    library(tictoc)\n",
    "})\n",
    "# library(tximport)\n",
    "# library(ggpubr)\n",
    "# library(TxDb.Hsapiens.UCSC.hg38.knownGene)\n",
    "TxDb= TxDb.Hsapiens.UCSC.hg38.knownGene\n"
   ]
  },
  {
   "cell_type": "code",
   "execution_count": null,
   "metadata": {},
   "outputs": [],
   "source": [
    "packageVersion(\"DESeq2\")"
   ]
  },
  {
   "cell_type": "markdown",
   "metadata": {},
   "source": [
    "### Input File Names"
   ]
  },
  {
   "cell_type": "code",
   "execution_count": null,
   "metadata": {},
   "outputs": [],
   "source": [
    "indir = '/nfs/lab/projects/islet_multiomics_stress_CoCl2/pipeline/bulk_islet_rna/bulk_RNA_salmon_v2023_02_17/quants_files_together/'\n",
    "outdir = '/nfs/lab/projects/islet_multiomics_stress_CoCl2/pipeline/bulk_islet_rna/'\n",
    "\n",
    "bulk_metadataFile = '/nfs/lab/projects/islet_multiomics_stress_CoCl2/pipeline/bulk_islet_rna/islet_bulk_rna_hg38.metadata.txt'\n",
    "\n",
    "\n",
    "bulk_quant_file_suffix = '.quant.sf'"
   ]
  },
  {
   "cell_type": "code",
   "execution_count": null,
   "metadata": {},
   "outputs": [],
   "source": [
    "up.pal <- brewer.pal(n = 6, name = \"Reds\")\n",
    "down.pal <- brewer.pal(n = 6, name = \"Blues\")\n",
    "# bulk_quant_file_dir = '/nfs/lab/projects/islet_multiomics_stress_CoCl2/pipeline/DESeq/input_files/bulk_rna_seq_islets_hg38/bulk_RNA_salmon_v2023_02_17/'\n",
    "# 'nfs/lab/jnewsome/scripts/multiome_cluster_CoCl2_Fall2022/bulk/bulk_RNA_seq_CoCl2_trim_Salmon_quant_file_Name_Column.ipynb'\n",
    "\n",
    "sampleNames = c(\"CO1_rep1c\", \"CO1_rep2c\", \"CO2_rep1c\", \"CO2_rep2c\", \"R395_CoCl2_1\", \n",
    "                \"R395_CoCl2_2\", \"R395_UNT\", \"UT1_rep1c\", \"UT1_rep2c\", \"UT2_rep1c\")\n",
    "\n",
    "#Gene info table\n",
    "Gene.symbols.anno = \"/nfs/lab/Luca/Assets/references/Salmon.index/Hg38.genecode.41/gencode.v41.metadata.HGNC\"\n",
    "GenCode.anno = \"/nfs/lab/Luca/Assets/references/Salmon.index/Hg38.genecode.41/gencode.v41.annotation.gtf\"\n",
    "bulk_tx2gene_file = \"/nfs/lab/Luca/Assets/references/Salmon.index/Hg38.genecode.41/genecode41.tx2gene\"\n"
   ]
  },
  {
   "cell_type": "markdown",
   "metadata": {},
   "source": [
    "### Read in Gene Annotation Files"
   ]
  },
  {
   "cell_type": "code",
   "execution_count": null,
   "metadata": {},
   "outputs": [],
   "source": [
    "bulk_tx2gene = read.table(bulk_tx2gene_file, header = TRUE)\n",
    "colnames(bulk_tx2gene) = c('TXNAME','GENEID')\n",
    "# head(bulk_tx2gene)\n",
    "\n",
    "Gene.symbols = read.table(Gene.symbols.anno, header = FALSE)\n",
    "Gene.symbols = Gene.symbols[,-3]\n",
    "colnames(Gene.symbols) = c(\"TXNAME\", \"Symbol\")\n",
    "# head(Gene.symbols)\n",
    "# head(bulk_tx2gene)\n",
    "# bulk_txtnames <- as.character(unlist(bulk_tx2gene$TXNAME))\n",
    "# bulk_txtnames_1 <- str_extract(bulk_txtnames, \".*(?=\\\\.)\")\n",
    "# bulk_tx2gene$TXNAME <- bulk_txtnames_1\n",
    "# bulk_geneIDs <-  as.character(unlist(bulk_tx2gene$GENEID))\n",
    "# bulk_geneIDs_1 <- str_extract(bulk_geneIDs, \".*(?=\\\\.)\")\n",
    "# bulk_tx2gene$GENEID = bulk_geneIDs_1\n",
    "\n",
    "Transcripts.Gene.symbols = merge(Gene.symbols, bulk_tx2gene, by = \"TXNAME\")\n",
    "# Transcripts.Gene.symbols_noVer <- Transcripts.Gene.symbols\n",
    "# bulk_txtnames <- as.character(unlist(Transcripts.Gene.symbols_noVer$GENEID))\n",
    "# bulk_txtnames_1 <- str_extract(bulk_txtnames, \".*(?=\\\\.)\")\n",
    "# Transcripts.Gene.symbols_noVer$GENEID <- bulk_txtnames_1\n",
    "head(Transcripts.Gene.symbols)\n"
   ]
  },
  {
   "cell_type": "code",
   "execution_count": null,
   "metadata": {},
   "outputs": [],
   "source": [
    "tic()\n",
    "gencode41Tablefile = '/nfs/lab/ref_to_organize/gencode_v41/gencode.v41.basic.annotation.gtf_converted_to_df_table.txt'\n",
    "gencode41_orig = read.table(gencode41Tablefile)\n",
    "toc()\n",
    "gencode41_orig = gencode41_orig[,c('width', 'gene_id', 'gene_name', 'type')]\n",
    "\n",
    "# head(gencode41_orig)\n",
    "\n",
    "\n",
    "# table(gencodeTable$type)\n",
    "\n",
    "\n",
    "gencode41_gene = gencode41_orig %>% dplyr::filter(type == 'gene')\n",
    "\n",
    "gencode41_gene = unique(gencode41_gene)\n",
    "gencode41_gene$type = NULL\n",
    "# head(gencodeTable)\n",
    "gencode41_gene = unique(gencode41_gene)\n",
    "colorder = c('gene_id', 'gene_name', 'width', 'type')\n",
    "gencode41 = gencode41_orig[,colorder]\n",
    "\n",
    "\n",
    "colorder = c('gene_id', 'gene_name', 'width')\n",
    "gencode41_gene = gencode41_gene[,colorder]\n",
    "\n",
    "rownames(gencode41_gene) = gencode41_gene$gene_id\n",
    "head(gencode41_gene)\n"
   ]
  },
  {
   "cell_type": "markdown",
   "metadata": {},
   "source": [
    "### Read in and process metadata file"
   ]
  },
  {
   "cell_type": "code",
   "execution_count": null,
   "metadata": {},
   "outputs": [],
   "source": [
    "bulk_metadata = read.table(bulk_metadataFile, header=T)\n",
    "bulk_metadata\n"
   ]
  },
  {
   "cell_type": "markdown",
   "metadata": {},
   "source": [
    "### Read in salmon files"
   ]
  },
  {
   "cell_type": "code",
   "execution_count": null,
   "metadata": {},
   "outputs": [],
   "source": [
    "bulk_files = paste(indir, bulk_metadata$sample_label, bulk_quant_file_suffix, sep=\"\")\n",
    "\n",
    "names(bulk_files) <- bulk_metadata$sample_label\n",
    "print(bulk_files)\n",
    "bulk_txi <- tximport(bulk_files, type=\"salmon\", tx2gene=bulk_tx2gene, ignoreAfterBar=TRUE, txOut=FALSE, ignoreTxVersion = FALSE)"
   ]
  },
  {
   "cell_type": "code",
   "execution_count": null,
   "metadata": {},
   "outputs": [],
   "source": [
    "head(bulk_txi$counts)\n",
    "\n",
    "head(bulk_txi$abundance)\n",
    "\n",
    "head(bulk_txi$length)\n",
    "head(bulk_txi$countsFromAbundance)\n"
   ]
  },
  {
   "cell_type": "code",
   "execution_count": null,
   "metadata": {},
   "outputs": [],
   "source": [
    "counts_table = as.data.frame(bulk_txi$counts)\n",
    "abundance_table = as.data.frame(bulk_txi$abundance)\n",
    "length_table = as.data.frame(bulk_txi$length)"
   ]
  },
  {
   "cell_type": "code",
   "execution_count": null,
   "metadata": {},
   "outputs": [],
   "source": [
    "head(counts_table)"
   ]
  },
  {
   "cell_type": "code",
   "execution_count": null,
   "metadata": {},
   "outputs": [],
   "source": [
    "# Gene.symbols_sort = Transcripts.Gene.symbols\n",
    "# Gene.symbols_sort$TXNAME = NULL\n",
    "# Gene.symbols_sort = unique(Gene.symbols_sort)\n",
    "# rownames(Gene.symbols_sort) = Gene.symbols_sort$GENEID\n",
    "# head(Gene.symbols_sort)\n"
   ]
  },
  {
   "cell_type": "code",
   "execution_count": null,
   "metadata": {},
   "outputs": [],
   "source": [
    "gene_ids_in_ref_table = rownames(Gene.symbols_sort)\n",
    "gene_ids_in_counts_table = rownames(counts_table)\n",
    "gene_ids_in_ref_table_gencode41_gene = rownames(gencode41_gene)\n",
    "\n",
    "\n",
    "# length(gene_ids_in_ref_table)\n",
    "# length(gene_ids_in_ref_table_gencode41_gene)\n",
    "# length(gene_ids_in_counts_table)\n",
    "# length(setdiff(gene_ids_in_counts_table, gene_ids_in_ref_table))\n",
    "# length(setdiff(gene_ids_in_counts_table, gene_ids_in_ref_table_gencode41_gene))\n",
    "gencode41_gene_sort = gencode41_gene\n",
    "gencode41_gene_sort = gencode41_gene_sort[gene_ids_in_counts_table,]\n",
    "counts_table$gene_name = gencode41_gene_sort$gene_name\n",
    "counts_table$gene_width_from_gencode41 = gencode41_gene_sort$width\n",
    "# head(counts_table)\n",
    "# tail(counts_table)"
   ]
  },
  {
   "cell_type": "code",
   "execution_count": null,
   "metadata": {},
   "outputs": [],
   "source": [
    "# counts_table$gene_width = NULL\n",
    "head(counts_table)"
   ]
  },
  {
   "cell_type": "code",
   "execution_count": null,
   "metadata": {},
   "outputs": [],
   "source": [
    "abundance_table$gene_name = gencode41_gene_sort$gene_name\n",
    "length_table$gene_name = gencode41_gene_sort$gene_name\n",
    "abundance_table$gene_width_from_gencode41 = gencode41_gene_sort$width\n",
    "length_table$gene_width_from_gencode41 = gencode41_gene_sort$width"
   ]
  },
  {
   "cell_type": "code",
   "execution_count": null,
   "metadata": {},
   "outputs": [],
   "source": [
    "outdir = '/nfs/lab/projects/islet_multiomics_stress_CoCl2/pipeline/bulk_islet_rna/'\n",
    "\n",
    "tic('save txi file')\n",
    "\n",
    "\n",
    "\n",
    "outfilename = paste0(outdir, 'bulk_islet_rna.hg38.counts_object_from_tximport_and_salmon.unannotated.unfiltered.unmerged.rds' )\n",
    "saveRDS(bulk_txi, file = outfilename)\n",
    "\n",
    "toc()\n",
    "\n",
    "\n",
    "\n"
   ]
  },
  {
   "cell_type": "code",
   "execution_count": null,
   "metadata": {},
   "outputs": [],
   "source": [
    "tablename = paste0(outdir, 'bulk_islet_rna.hg38.counts_object_from_tximport_and_salmon.unfiltered.unmerged.Counts_table.txt')\n",
    "tic()\n",
    "write.table(counts_table, tablename, quote=FALSE, sep='\\t', col.names = TRUE, row.names=TRUE)\n",
    "toc()\n",
    "\n",
    "tablename = paste0(outdir, 'bulk_islet_rna.hg38.counts_object_from_tximport_and_salmon.unfiltered.unmerged.Lengths_table.txt')\n",
    "tic()\n",
    "write.table(length_table, tablename, quote=FALSE, sep='\\t', col.names = TRUE, row.names=TRUE)\n",
    "toc()\n",
    "\n",
    "\n",
    "tablename = paste0(outdir, 'bulk_islet_rna.hg38.counts_object_from_tximport_and_salmon.unfiltered.unmerged.Abundance_table.txt')\n",
    "tic()\n",
    "write.table(abundance_table, tablename, quote=FALSE, sep='\\t', col.names = TRUE, row.names=TRUE)\n",
    "toc()\n",
    "\n"
   ]
  },
  {
   "cell_type": "markdown",
   "metadata": {},
   "source": [
    "#### Make DDS object"
   ]
  },
  {
   "cell_type": "code",
   "execution_count": null,
   "metadata": {},
   "outputs": [],
   "source": [
    "dds  <- DESeqDataSetFromTximport(bulk_txi, colData = bulk_metadata, design= ~ Donor + Treatment)"
   ]
  },
  {
   "cell_type": "code",
   "execution_count": null,
   "metadata": {},
   "outputs": [],
   "source": [
    "counts_from_dds = as.data.frame(counts(dds))\n",
    "head(counts_from_dds)"
   ]
  },
  {
   "cell_type": "code",
   "execution_count": null,
   "metadata": {},
   "outputs": [],
   "source": [
    "dim(counts_from_dds)"
   ]
  },
  {
   "cell_type": "code",
   "execution_count": null,
   "metadata": {},
   "outputs": [],
   "source": [
    "gencode41_gene_sort2 = gencode41_gene\n",
    "gencode41_gene_sort2 = gencode41_gene_sort2[rownames(counts_from_dds),]\n",
    "counts_from_dds$gene_name = gencode41_gene_sort2$gene_name\n",
    "counts_from_dds$gene_width_from_gencode41 = gencode41_gene_sort2$width\n",
    "head(counts_from_dds)"
   ]
  },
  {
   "cell_type": "code",
   "execution_count": null,
   "metadata": {},
   "outputs": [],
   "source": [
    "counts_from_dds$gene_id = rownames(counts_from_dds)\n",
    "counts_from_dds2 = counts_from_dds\n",
    "rownames(counts_from_dds2) = make.names(counts_from_dds2$gene_name,unique=TRUE)\n",
    "annotations_table = counts_from_dds2\n",
    "annotations_table$row_name = rownames(annotations_table)\n",
    "annotations_table = annotations_table[,c('row_name', 'gene_name', 'gene_id', 'gene_width_from_gencode41')]\n",
    "head(annotations_table)"
   ]
  },
  {
   "cell_type": "code",
   "execution_count": null,
   "metadata": {},
   "outputs": [],
   "source": [
    "head(counts_from_dds2)"
   ]
  },
  {
   "cell_type": "code",
   "execution_count": null,
   "metadata": {},
   "outputs": [],
   "source": [
    "counts_from_dds2$gene_name = NULL\n",
    "counts_from_dds2$gene_id = NULL\n",
    "counts_from_dds2$gene_width_from_gencode41 = NULL"
   ]
  },
  {
   "cell_type": "code",
   "execution_count": null,
   "metadata": {},
   "outputs": [],
   "source": [
    "dds  = DESeqDataSetFromMatrix(\n",
    "      countData = counts_from_dds2,\n",
    "      bulk_metadata,\n",
    "       design= ~ Donor + Treatment\n",
    "    )\n"
   ]
  },
  {
   "cell_type": "code",
   "execution_count": null,
   "metadata": {},
   "outputs": [],
   "source": [
    "counts_table$gene_width_from_gencode41 = NULL\n",
    "abundance_table$gene_width_from_gencode41 = NULL\n",
    "length_table$gene_width_from_gencode41 = NULL"
   ]
  },
  {
   "cell_type": "code",
   "execution_count": null,
   "metadata": {},
   "outputs": [],
   "source": [
    "rowData(dds) = annotations_table\n",
    "\n",
    "\n",
    "rownames(counts_table) = annotations_table$row_name\n",
    "rownames(length_table) = annotations_table$row_name\n",
    "rownames(abundance_table) = annotations_table$row_name\n",
    "counts_table$gene_name = NULL\n",
    "counts_table$gene_id = NULL\n",
    "length_table$gene_name = NULL\n",
    "length_table$gene_id = NULL\n",
    "abundance_table$gene_name = NULL\n",
    "abundance_table$gene_id = NULL\n",
    "assays(dds)[[\"counts_from_tximport\"]] <- as.matrix(counts_table)\n",
    "assays(dds)[[\"length_from_tximport\"]] <- as.matrix(length_table)\n",
    "assays(dds)[[\"abundance_from_tximport\"]] <- as.matrix(abundance_table)\n",
    "\n",
    "\n"
   ]
  },
  {
   "cell_type": "code",
   "execution_count": null,
   "metadata": {},
   "outputs": [],
   "source": [
    "dds"
   ]
  },
  {
   "cell_type": "code",
   "execution_count": null,
   "metadata": {},
   "outputs": [],
   "source": [
    "head(as.data.frame(rowData(dds)))"
   ]
  },
  {
   "cell_type": "code",
   "execution_count": null,
   "metadata": {},
   "outputs": [],
   "source": [
    "ddsoutfilename = paste0(outdir, 'bulk_islet_rna.hg38.Donor_plus_Treatment.ANNOTATED.countsfromTxImport.unfiltered.unmerged.dds.rds')\n",
    "tic()\n",
    "saveRDS(dds, file = ddsoutfilename)\n",
    "toc()"
   ]
  },
  {
   "cell_type": "markdown",
   "metadata": {},
   "source": [
    "## Filter out Genes with fewer than 2 reads per treatment\n"
   ]
  },
  {
   "cell_type": "code",
   "execution_count": null,
   "metadata": {},
   "outputs": [],
   "source": [
    "unt_info = bulk_metadata %>% dplyr::filter(Treatment == 'Unt')\n",
    "cocl2_info = bulk_metadata %>% dplyr::filter(Treatment == 'CoCl2')\n",
    "\n",
    "untrows <-  as.character(as.factor(rownames(unt_info)))\n",
    "cocl2rows <-  as.character(as.factor(rownames(cocl2_info)))\n",
    "\n",
    "unt_counts <- counts_from_dds2[,untrows]\n",
    "cocl2_counts <- counts_from_dds2[,cocl2rows]\n",
    "geneNames <- rownames(counts_from_dds2)\n",
    "    sumsGenes_cocl2 <- rowSums(cocl2_counts)\n",
    "    sumsGenes_unt <- rowSums(unt_counts)"
   ]
  },
  {
   "cell_type": "code",
   "execution_count": null,
   "metadata": {},
   "outputs": [],
   "source": [
    "sumsGenes_cocl2_df = as.data.frame(sumsGenes_cocl2)\n",
    "sumsGenes_unt_df = as.data.frame(sumsGenes_unt)\n",
    "sumsGenes_unt_df$dummy = 1"
   ]
  },
  {
   "cell_type": "code",
   "execution_count": null,
   "metadata": {},
   "outputs": [],
   "source": [
    "head(sumsGenes_unt_df)"
   ]
  },
  {
   "cell_type": "code",
   "execution_count": null,
   "metadata": {},
   "outputs": [],
   "source": [
    "sumsGenes_cocl2_df$cocl2 = sumsGenes_cocl2_df$sumsGenes_cocl2\n",
    "sumsGenes = sumsGenes_cocl2_df\n",
    "sumsGenes$unt = sumsGenes_unt_df$sumsGenes_unt\n",
    "sumsGenes$sumsGenes_cocl2 = NULL\n",
    "head(sumsGenes)"
   ]
  },
  {
   "cell_type": "code",
   "execution_count": null,
   "metadata": {},
   "outputs": [],
   "source": [
    "sumsGenes_pass = sumsGenes %>% dplyr::filter(cocl2 >= 2 & unt >= 2)\n",
    "dim(sumsGenes_pass)"
   ]
  },
  {
   "cell_type": "code",
   "execution_count": null,
   "metadata": {},
   "outputs": [],
   "source": [
    "genes_pass = rownames(sumsGenes_pass)"
   ]
  },
  {
   "cell_type": "code",
   "execution_count": null,
   "metadata": {},
   "outputs": [],
   "source": [
    "annotations_table_pass = annotations_table[genes_pass,]\n",
    "counts_table_pass = counts_table[genes_pass,]\n",
    "length_table_pass = length_table[genes_pass,]\n",
    "abundance_table_pass = abundance_table[genes_pass,]\n",
    "counts_from_dds2_pass = counts_from_dds2[genes_pass,]\n",
    "dim(annotations_table_pass)"
   ]
  },
  {
   "cell_type": "code",
   "execution_count": null,
   "metadata": {},
   "outputs": [],
   "source": [
    "dds_filt  = DESeqDataSetFromMatrix(\n",
    "      countData = counts_from_dds2_pass,\n",
    "      bulk_metadata,\n",
    "       design= ~ Donor + Treatment\n",
    "    )\n"
   ]
  },
  {
   "cell_type": "code",
   "execution_count": null,
   "metadata": {},
   "outputs": [],
   "source": [
    "assays(dds_filt)[[\"counts_from_tximport\"]] <- as.matrix(counts_table_pass)\n",
    "assays(dds_filt)[[\"length_from_tximport\"]] <- as.matrix(length_table_pass)\n",
    "assays(dds_filt)[[\"abundance_from_tximport\"]] <- as.matrix(abundance_table_pass)\n",
    "rowData(dds_filt) = annotations_table_pass"
   ]
  },
  {
   "cell_type": "code",
   "execution_count": null,
   "metadata": {},
   "outputs": [],
   "source": [
    "head(as.data.frame(rowData(dds_filt)))"
   ]
  },
  {
   "cell_type": "code",
   "execution_count": null,
   "metadata": {},
   "outputs": [],
   "source": [
    "head(as.data.frame(counts(dds_filt)))"
   ]
  },
  {
   "cell_type": "code",
   "execution_count": null,
   "metadata": {},
   "outputs": [],
   "source": [
    "ddsoutfilename = paste0(outdir, 'bulk_islet_rna.hg38.Donor_plus_Treatment.ANNOTATED.FILT_2Plus_Reads_per_Treat.countsfromTxImport.unmerged.dds.rds')\n",
    "tic()\n",
    "saveRDS(dds_filt, file = ddsoutfilename)\n",
    "toc()\n"
   ]
  },
  {
   "cell_type": "markdown",
   "metadata": {},
   "source": [
    "## TPMs -- unmerged"
   ]
  },
  {
   "cell_type": "code",
   "execution_count": null,
   "metadata": {},
   "outputs": [],
   "source": [
    "head(gencode41_gene)"
   ]
  },
  {
   "cell_type": "code",
   "execution_count": null,
   "metadata": {},
   "outputs": [],
   "source": [
    "# Function to calculate TPM\n",
    "calculate_tpm <- function(counts, gene_lengths) {\n",
    "  # Calculate RPK (Reads Per Kilobase)\n",
    "  rpk <- counts / (gene_lengths / 1e3)\n",
    "  \n",
    "  # Calculate per-million scaling factor\n",
    "  scaling_factor <- colSums(rpk) / 1e6\n",
    "  \n",
    "  # Calculate TPM\n",
    "  tpm <- t(t(rpk) / scaling_factor)\n",
    "  \n",
    "  return(tpm)\n",
    "}\n",
    "\n"
   ]
  },
  {
   "cell_type": "markdown",
   "metadata": {},
   "source": [
    "#### Unfiltered"
   ]
  },
  {
   "cell_type": "code",
   "execution_count": null,
   "metadata": {},
   "outputs": [],
   "source": [
    "head(counts_from_dds2)\n",
    "head(annotations_table)"
   ]
  },
  {
   "cell_type": "code",
   "execution_count": null,
   "metadata": {},
   "outputs": [],
   "source": [
    "\n",
    "tic('calc tpm')\n",
    "# Calculate TPM\n",
    "tpm_unfilt <- calculate_tpm(counts_from_dds2, annotations_table$gene_width_from_gencode41)\n",
    "\n",
    "toc()\n",
    "\n",
    "\n",
    "# View the first few rows of the TPM matrix\n",
    "head(tpm_unfilt)"
   ]
  },
  {
   "cell_type": "markdown",
   "metadata": {},
   "source": [
    "#### Filt"
   ]
  },
  {
   "cell_type": "code",
   "execution_count": null,
   "metadata": {},
   "outputs": [],
   "source": [
    "tpm_filt = tpm_unfilt[genes_pass,]"
   ]
  },
  {
   "cell_type": "code",
   "execution_count": null,
   "metadata": {},
   "outputs": [],
   "source": [
    "head(tpm_filt)"
   ]
  },
  {
   "cell_type": "code",
   "execution_count": null,
   "metadata": {},
   "outputs": [],
   "source": [
    "assays(dds)[[\"TPMs\"]] <- as.matrix(tpm_unfilt)\n",
    "assays(dds_filt)[[\"TPMs\"]] <- as.matrix(tpm_filt)"
   ]
  },
  {
   "cell_type": "code",
   "execution_count": null,
   "metadata": {},
   "outputs": [],
   "source": [
    "ddsoutfilename = paste0(outdir, 'bulk_islet_rna.hg38.Donor_plus_Treatment.ANNOTATED.with_TPMs.countsfromTxImport.unfiltered.unmerged.dds.rds')\n",
    "tic()\n",
    "saveRDS(dds, file = ddsoutfilename)\n",
    "toc()\n",
    "\n",
    "ddsoutfilename = paste0(outdir, 'bulk_islet_rna.hg38.Donor_plus_Treatment.ANNOTATED.FILT_2Plus_Reads_per_Treat.with_TPMs.countsfromTxImport.unmerged.dds.rds')\n",
    "tic()\n",
    "saveRDS(dds_filt, file = ddsoutfilename)\n",
    "toc()\n"
   ]
  },
  {
   "cell_type": "code",
   "execution_count": null,
   "metadata": {},
   "outputs": [],
   "source": [
    "\n",
    "tablename = paste0(outdir, 'bulk_islet_rna.hg38.Donor_plus_Treatment.ANNOTATED.with_TPMs.countsfromTxImport.unfiltered.TPMs_table.txt')\n",
    "tic()\n",
    "write.table(tpm_unfilt, tablename, quote=FALSE, sep='\\t', col.names = TRUE, row.names=TRUE)\n",
    "toc()\n",
    "\n",
    "\n",
    "tablename = paste0(outdir, 'bulk_islet_rna.hg38.Donor_plus_Treatment.ANNOTATED.FILT_2Plus_Reads_per_Treat.with_TPMs.countsfromTxImport.unmerged.TPMs_table.txt')\n",
    "tic()\n",
    "write.table(tpm_filt, tablename, quote=FALSE, sep='\\t', col.names = TRUE, row.names=TRUE)\n",
    "toc()\n"
   ]
  },
  {
   "cell_type": "markdown",
   "metadata": {},
   "source": [
    "## Merge Donor replicates "
   ]
  },
  {
   "cell_type": "code",
   "execution_count": null,
   "metadata": {},
   "outputs": [],
   "source": [
    "head(counts_from_dds2)"
   ]
  },
  {
   "cell_type": "code",
   "execution_count": null,
   "metadata": {},
   "outputs": [],
   "source": [
    "bulk_metadata"
   ]
  },
  {
   "cell_type": "code",
   "execution_count": null,
   "metadata": {},
   "outputs": [],
   "source": [
    "\n",
    "\n",
    "\n",
    "counts_from_dds_merge = counts_from_dds2\n",
    "counts_from_dds_merge$CO1_rep_1c_2c = counts_from_dds_merge$CO1_rep1c + counts_from_dds_merge$CO1_rep2c\n",
    "counts_from_dds_merge$UT1_rep_1c_2c = counts_from_dds_merge$UT1_rep1c + counts_from_dds_merge$UT1_rep2c\n",
    "counts_from_dds_merge$CO2_rep_1c_2c = counts_from_dds_merge$CO2_rep1c + counts_from_dds_merge$CO2_rep2c\n",
    "counts_from_dds_merge$R395_CoCl2_1_2 = counts_from_dds_merge$R395_CoCl2_1 + counts_from_dds_merge$R395_CoCl2_2\n",
    "\n",
    "\n",
    "counts_from_dds_merge$CO1_rep1c = NULL\n",
    "counts_from_dds_merge$CO1_rep2c = NULL\n",
    "counts_from_dds_merge$UT1_rep1c = NULL\n",
    "counts_from_dds_merge$UT1_rep2c = NULL\n",
    "counts_from_dds_merge$CO2_rep1c = NULL\n",
    "counts_from_dds_merge$CO2_rep2c = NULL\n",
    "counts_from_dds_merge$R395_CoCl2_1 = NULL\n",
    "counts_from_dds_merge$R395_CoCl2_2 = NULL\n",
    "\n",
    "merged_sampleOrder = c('UT2_rep1c', 'R395_UNT', 'CO1_rep_1c_2c', \n",
    "                       'UT1_rep_1c_2c', 'CO2_rep_1c_2c', 'R395_CoCl2_1_2')\n",
    "counts_from_dds_merge = counts_from_dds_merge[,merged_sampleOrder]\n",
    "head(counts_from_dds_merge)"
   ]
  },
  {
   "cell_type": "code",
   "execution_count": null,
   "metadata": {},
   "outputs": [],
   "source": [
    "dim(counts_from_dds_merge)"
   ]
  },
  {
   "cell_type": "code",
   "execution_count": null,
   "metadata": {},
   "outputs": [],
   "source": [
    "bulk_metadata"
   ]
  },
  {
   "cell_type": "code",
   "execution_count": null,
   "metadata": {},
   "outputs": [],
   "source": [
    "bulk_metadata$replicate_names = bulk_metadata$sample_label"
   ]
  },
  {
   "cell_type": "code",
   "execution_count": null,
   "metadata": {},
   "outputs": [],
   "source": [
    "bulk_metadata_merge = bulk_metadata\n",
    "\n",
    "\n",
    "# bulk_metadata_merge['CO1_rep_1c_2c',] = bulk_metadata_merge['CO1_rep1c',]\n",
    "# bulk_metadata_merge[bulk_metadata_merge$sample_label == \"CO1_rep_1c_2c\", \"sample_label\"] <- \"CO1_rep_1c_2c\"\n",
    "# bulk_metadata_merge[bulk_metadata_merge$sample_label == \"CO1_rep_1c_2c\", \"replicate\"] <- \"rep1;rep2\"\n",
    "# bulk_metadata_merge[bulk_metadata_merge$sample_label == \"CO1_rep_1c_2c\", \"replicate_names\"] <- 'CO1_rep1c;CO1_rep2c'\n",
    "\n",
    "\n",
    "new_row <- data.frame(sample_label = \"CO1_rep_1c_2c\", \n",
    "                      time = 24, \n",
    "                      replicate = \"rep1;rep2\", \n",
    "                      batch = \"B\",\n",
    "                      condition = \"CoCl2_24\",\n",
    "                      donor_batch = \"R382_B\",\n",
    "                      Treatment = \"CoCl2\",\n",
    "                      Donor = \"R382\",\n",
    "                      replicate_names = \"CO1_rep1c;CO1_rep2c\"\n",
    "                     )\n",
    "\n",
    "\n",
    "bulk_metadata_merge <- rbind(bulk_metadata_merge, new_row)\n",
    "\n",
    "\n",
    "\n",
    "\n",
    "new_row <- data.frame(sample_label = \"UT1_rep_1c_2c\", \n",
    "                      time = 24, \n",
    "                      replicate = \"rep1;rep2\", \n",
    "                      batch = \"B\",\n",
    "                      condition = \"Unt_24\",\n",
    "                      donor_batch = \"R382_B\",\n",
    "                      Treatment = \"Unt\",\n",
    "                      Donor = \"R382\",\n",
    "                      replicate_names = \"UT1_rep1c;UT1_rep2c\"\n",
    "                     )\n",
    "\n",
    "\n",
    "bulk_metadata_merge <- rbind(bulk_metadata_merge, new_row)\n",
    "\n",
    "\n",
    "new_row <- data.frame(sample_label = \"CO2_rep_1c_2c\", \n",
    "                      time = 24, \n",
    "                      replicate = \"rep1;rep2\", \n",
    "                      batch = \"B\",\n",
    "                      condition = \"CoCl2_24\",\n",
    "                      donor_batch = \"R385_B\",\n",
    "                      Treatment = \"CoCl2\",\n",
    "                      Donor = \"R385\",\n",
    "                      replicate_names = \"CO2_rep1c;CO2_rep2c\"\n",
    "                     )\n",
    "\n",
    "\n",
    "bulk_metadata_merge <- rbind(bulk_metadata_merge, new_row)\n",
    "\n",
    "\n",
    "new_row <- data.frame(sample_label = \"R395_CoCl2_1_2\", \n",
    "                      time = 24, \n",
    "                      replicate = \"rep1;rep2\", \n",
    "                      batch = \"C\",\n",
    "                      condition = \"CoCl2_24\",\n",
    "                      donor_batch = \"R395_C\",\n",
    "                      Treatment = \"CoCl2\",\n",
    "                      Donor = \"R395\",\n",
    "                      replicate_names = \"R395_CoCl2_1;R395_CoCl2_2\"\n",
    "                     )\n",
    "\n",
    "\n",
    "bulk_metadata_merge <- rbind(bulk_metadata_merge, new_row)\n",
    "\n",
    "\n",
    "\n",
    "\n",
    "rownames(bulk_metadata_merge) = bulk_metadata_merge$sample_label\n",
    "bulk_metadata_merge = bulk_metadata_merge[merged_sampleOrder,]\n",
    "\n",
    "bulk_metadata_merge"
   ]
  },
  {
   "cell_type": "code",
   "execution_count": null,
   "metadata": {},
   "outputs": [],
   "source": [
    "dds_mergedReplicates  = DESeqDataSetFromMatrix(\n",
    "      countData = counts_from_dds_merge,\n",
    "      bulk_metadata_merge,\n",
    "       design= ~ Donor + Treatment\n",
    "    )\n",
    "rowData(dds_mergedReplicates) = annotations_table\n",
    "dds_mergedReplicates"
   ]
  },
  {
   "cell_type": "markdown",
   "metadata": {},
   "source": [
    "## TPMs -- merged"
   ]
  },
  {
   "cell_type": "code",
   "execution_count": null,
   "metadata": {},
   "outputs": [],
   "source": [
    "counts_from_dds_merge2 = counts_from_dds_merge\n",
    "counts_from_dds_merge2$gene_name = NULL\n",
    "counts_from_dds_merge2$gene_id = NULL\n",
    "counts_from_dds_merge2$gene_width_from_gencode41 = NULL\n"
   ]
  },
  {
   "cell_type": "code",
   "execution_count": null,
   "metadata": {},
   "outputs": [],
   "source": [
    "head(unlist(as.list(annotations_table$gene_width_from_gencode41)))"
   ]
  },
  {
   "cell_type": "code",
   "execution_count": null,
   "metadata": {},
   "outputs": [],
   "source": [
    "# annotations_table"
   ]
  },
  {
   "cell_type": "code",
   "execution_count": null,
   "metadata": {},
   "outputs": [],
   "source": [
    "\n",
    "tic('calc tpm')\n",
    "# Calculate TPM\n",
    "tpm_merged_unfilt <- calculate_tpm(counts_from_dds_merge2, unlist(as.list(annotations_table$gene_width_from_gencode41)))\n",
    "\n",
    "toc()\n",
    "\n",
    "\n",
    "# View the first few rows of the TPM matrix\n",
    "head(tpm_merged_unfilt)"
   ]
  },
  {
   "cell_type": "code",
   "execution_count": null,
   "metadata": {},
   "outputs": [],
   "source": [
    "tpm_merged_filt = tpm_merged_unfilt[genes_pass,]"
   ]
  },
  {
   "cell_type": "code",
   "execution_count": null,
   "metadata": {},
   "outputs": [],
   "source": [
    "counts_from_dds_merge_filt = counts_from_dds_merge2[genes_pass,]"
   ]
  },
  {
   "cell_type": "code",
   "execution_count": null,
   "metadata": {},
   "outputs": [],
   "source": [
    "dds_mergedReplicates_filt  = DESeqDataSetFromMatrix(\n",
    "      countData = counts_from_dds_merge_filt,\n",
    "      bulk_metadata_merge,\n",
    "       design= ~ Donor + Treatment\n",
    "    )\n",
    "rowData(dds_mergedReplicates_filt) = annotations_table_pass\n",
    "dds_mergedReplicates_filt"
   ]
  },
  {
   "cell_type": "code",
   "execution_count": null,
   "metadata": {},
   "outputs": [],
   "source": [
    "assays(dds_mergedReplicates)[[\"TPMs\"]] <- as.matrix(tpm_merged_unfilt)\n",
    "assays(dds_mergedReplicates_filt)[[\"TPMs\"]] <- as.matrix(tpm_merged_filt)"
   ]
  },
  {
   "cell_type": "code",
   "execution_count": null,
   "metadata": {},
   "outputs": [],
   "source": [
    "ddsoutfilename = paste0(outdir, 'bulk_islet_rna.hg38.Donor_plus_Treatment.Replicates_MERGED_by_sum.ANNOTATED.with_TPMs.countsfromTxImport.unfiltered.dds.rds')\n",
    "tic()\n",
    "saveRDS(dds_mergedReplicates, file = ddsoutfilename)\n",
    "toc()\n",
    "\n",
    "ddsoutfilename = paste0(outdir, 'bulk_islet_rna.hg38.Donor_plus_Treatment.Replicates_MERGED_by_sum.ANNOTATED.FILT_2Plus_Reads_per_Treat.with_TPMs.countsfromTxImport.dds.rds')\n",
    "tic()\n",
    "saveRDS(dds_mergedReplicates_filt, file = ddsoutfilename)\n",
    "toc()\n"
   ]
  },
  {
   "cell_type": "code",
   "execution_count": null,
   "metadata": {},
   "outputs": [],
   "source": [
    "head(annotations_table)"
   ]
  },
  {
   "cell_type": "code",
   "execution_count": null,
   "metadata": {},
   "outputs": [],
   "source": [
    "\n",
    "tablename = paste0(outdir, 'islet_bulk_rna_hg38.gene_annotations_from_Gencode41.unfiltered.txt')\n",
    "tic()\n",
    "write.table(annotations_table, tablename, quote=FALSE, sep='\\t', col.names = TRUE, row.names=TRUE)\n",
    "toc()\n",
    "\n",
    "\n",
    "tablename = paste0(outdir, 'islet_bulk_rna_hg38.gene_annotations_from_Gencode41.FILT_2Plus_Reads_per_Treat.txt')\n",
    "tic()\n",
    "write.table(annotations_table_pass, tablename, quote=FALSE, sep='\\t', col.names = TRUE, row.names=TRUE)\n",
    "toc()\n",
    "\n",
    "\n",
    "\n",
    "tablename = paste0(outdir, 'islet_bulk_rna_hg38.sample_metadata.MergedReplicates.txt')\n",
    "tic()\n",
    "write.table(bulk_metadata_merge, tablename, quote=FALSE, sep='\\t', col.names = TRUE, row.names=TRUE)\n",
    "toc()\n",
    "\n"
   ]
  },
  {
   "cell_type": "code",
   "execution_count": null,
   "metadata": {},
   "outputs": [],
   "source": [
    "counts_final = counts_from_dds2\n",
    "counts_merged_final = counts_from_dds_merge2\n",
    "tpm_final = as.data.frame(tpm_unfilt)\n",
    "tpm_merged_final = as.data.frame(tpm_merged_unfilt)\n",
    "# annotations_table\n",
    "\n",
    "counts_filt_final = counts_from_dds2_pass\n",
    "counts_merged_filt_final = counts_from_dds_merge_filt\n",
    "tpm_filt_final =   as.data.frame(tpm_filt)\n",
    "tpm_merged_filt_final =   as.data.frame(tpm_merged_filt)\n",
    "# annotations_table_pass"
   ]
  },
  {
   "cell_type": "code",
   "execution_count": null,
   "metadata": {},
   "outputs": [],
   "source": [
    "counts_final$gene_name =  annotations_table$gene_name\n",
    "counts_final$gene_id =  annotations_table$gene_id\n",
    "counts_final$gene_width_from_gencode41 =  annotations_table$gene_width_from_gencode41\n",
    "\n",
    "counts_merged_final$gene_name =  annotations_table$gene_name\n",
    "counts_merged_final$gene_id =  annotations_table$gene_id\n",
    "counts_merged_final$gene_width_from_gencode41 =  annotations_table$gene_width_from_gencode41\n",
    "\n",
    "tpm_final$gene_name =  annotations_table$gene_name\n",
    "tpm_final$gene_id =  annotations_table$gene_id\n",
    "tpm_final$gene_width_from_gencode41 =  annotations_table$gene_width_from_gencode41\n",
    "\n",
    "\n",
    "tpm_merged_final$gene_name =  annotations_table$gene_name\n",
    "tpm_merged_final$gene_id =  annotations_table$gene_id\n",
    "tpm_merged_final$gene_width_from_gencode41 =  annotations_table$gene_width_from_gencode41\n",
    "\n",
    "\n",
    "\n",
    "counts_filt_final$gene_name =  annotations_table_pass$gene_name\n",
    "counts_filt_final$gene_id =  annotations_table_pass$gene_id\n",
    "counts_filt_final$gene_width_from_gencode41 =  annotations_table_pass$gene_width_from_gencode41\n",
    "\n",
    "counts_merged_filt_final$gene_name =  annotations_table_pass$gene_name\n",
    "counts_merged_filt_final$gene_id =  annotations_table_pass$gene_id\n",
    "counts_merged_filt_final$gene_width_from_gencode41 =  annotations_table_pass$gene_width_from_gencode41\n",
    "\n",
    "tpm_merged_filt_final$gene_name =  annotations_table_pass$gene_name\n",
    "tpm_merged_filt_final$gene_id =  annotations_table_pass$gene_id\n",
    "tpm_merged_filt_final$gene_width_from_gencode41 =  annotations_table_pass$gene_width_from_gencode41\n",
    "\n",
    "\n",
    "tpm_filt_final$gene_name =  annotations_table_pass$gene_name\n",
    "tpm_filt_final$gene_id =  annotations_table_pass$gene_id\n",
    "tpm_filt_final$gene_width_from_gencode41 =  annotations_table_pass$gene_width_from_gencode41\n",
    "\n",
    "\n",
    "\n"
   ]
  },
  {
   "cell_type": "code",
   "execution_count": null,
   "metadata": {},
   "outputs": [],
   "source": [
    "head(counts_final)\n",
    "head(counts_merged_final)\n",
    "head(tpm_final)\n",
    "head(tpm_merged_final)\n",
    "\n",
    "head(counts_filt_final)\n",
    "head(counts_merged_filt_final)\n",
    "head(tpm_filt_final)\n",
    "head(tpm_merged_filt_final)\n",
    "\n"
   ]
  },
  {
   "cell_type": "code",
   "execution_count": null,
   "metadata": {},
   "outputs": [],
   "source": [
    "tablename = paste0(outdir, 'bulk_islet_rna.hg38.Counts.unfiltered.unmerged.txt')\n",
    "tic()\n",
    "write.table(counts_final, tablename, quote=FALSE, sep='\\t', col.names = TRUE, row.names=TRUE)\n",
    "toc()\n",
    "\n",
    "tablename = paste0(outdir, 'bulk_islet_rna.hg38.Counts.unfiltered.MergedReplicates.txt')\n",
    "tic()\n",
    "write.table(counts_merged_final, tablename, quote=FALSE, sep='\\t', col.names = TRUE, row.names=TRUE)\n",
    "toc()\n",
    "\n",
    "tablename = paste0(outdir, 'bulk_islet_rna.hg38.TPMs.unfiltered.unmerged.txt')\n",
    "tic()\n",
    "write.table(tpm_final, tablename, quote=FALSE, sep='\\t', col.names = TRUE, row.names=TRUE)\n",
    "toc()\n",
    "\n",
    "tablename = paste0(outdir, 'bulk_islet_rna.hg38.TPMs.unfiltered.MergedReplicates.txt')\n",
    "tic()\n",
    "write.table(tpm_merged_final, tablename, quote=FALSE, sep='\\t', col.names = TRUE, row.names=TRUE)\n",
    "toc()\n",
    "\n",
    "\n",
    "\n",
    "tablename = paste0(outdir, 'bulk_islet_rna.hg38.Counts.FILT_min2_Reads_per_Treat.unmerged.txt')\n",
    "tic()\n",
    "write.table(counts_filt_final, tablename, quote=FALSE, sep='\\t', col.names = TRUE, row.names=TRUE)\n",
    "toc()\n",
    "\n",
    "tablename = paste0(outdir, 'bulk_islet_rna.hg38.Counts.FILT_min2_Reads_per_Treat.MergedReplicates.txt')\n",
    "tic()\n",
    "write.table(counts_merged_filt_final, tablename, quote=FALSE, sep='\\t', col.names = TRUE, row.names=TRUE)\n",
    "toc()\n",
    "\n",
    "tablename = paste0(outdir, 'bulk_islet_rna.hg38.TPMs.FILT_min2_Reads_per_Treat.unmerged.txt')\n",
    "tic()\n",
    "write.table(tpm_filt_final, tablename, quote=FALSE, sep='\\t', col.names = TRUE, row.names=TRUE)\n",
    "toc()\n",
    "\n",
    "tablename = paste0(outdir, 'bulk_islet_rna.hg38.TPMs.FILT_min2_Reads_per_Treat.MergedReplicates.txt')\n",
    "tic()\n",
    "write.table(tpm_merged_filt_final, tablename, quote=FALSE, sep='\\t', col.names = TRUE, row.names=TRUE)\n",
    "toc()\n",
    "\n"
   ]
  },
  {
   "cell_type": "code",
   "execution_count": null,
   "metadata": {},
   "outputs": [],
   "source": [
    "\n",
    "tablename = paste0(outdir, 'bulk_islet_rna.hg38.TPMs.unfiltered.unmerged.txt')\n",
    "tic()\n",
    "tpm_final = read.table( tablename)\n",
    "toc()\n",
    "\n",
    "tablename = paste0(outdir, 'bulk_islet_rna.hg38.TPMs.unfiltered.MergedReplicates.txt')\n",
    "tic()\n",
    "tpm_merged_final = read.table( tablename)\n",
    "toc()\n",
    "\n",
    "\n"
   ]
  },
  {
   "cell_type": "code",
   "execution_count": null,
   "metadata": {},
   "outputs": [],
   "source": [
    "head(tpm_final)"
   ]
  },
  {
   "cell_type": "code",
   "execution_count": null,
   "metadata": {},
   "outputs": [],
   "source": [
    "\n",
    "tablename = paste0(outdir, 'bulk_islet_rna.hg38.TPMs.unfiltered.MergedReplicates.csv')\n",
    "tic()\n",
    "write.table(tpm_merged_final, tablename, quote=FALSE, sep=',',  col.names = TRUE, row.names=TRUE)\n",
    "toc()\n",
    "\n",
    "\n",
    "\n",
    "tablename = paste0(outdir, 'bulk_islet_rna.hg38.TPMs.unfiltered.unmerged.csv')\n",
    "tic()\n",
    "write.table(tpm_final, tablename, quote=FALSE, sep=',', col.names = TRUE, row.names=TRUE)\n",
    "toc()\n"
   ]
  },
  {
   "cell_type": "code",
   "execution_count": null,
   "metadata": {},
   "outputs": [],
   "source": []
  },
  {
   "cell_type": "code",
   "execution_count": null,
   "metadata": {},
   "outputs": [],
   "source": []
  },
  {
   "cell_type": "code",
   "execution_count": null,
   "metadata": {},
   "outputs": [],
   "source": []
  }
 ],
 "metadata": {
  "kernelspec": {
   "display_name": "R",
   "language": "R",
   "name": "ir"
  },
  "language_info": {
   "codemirror_mode": "r",
   "file_extension": ".r",
   "mimetype": "text/x-r-source",
   "name": "R",
   "pygments_lexer": "r",
   "version": "3.6.0"
  }
 },
 "nbformat": 4,
 "nbformat_minor": 4
}
